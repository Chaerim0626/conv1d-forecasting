{
 "cells": [
  {
   "cell_type": "markdown",
   "id": "6fc71275-ca3b-4051-be65-597abd731df5",
   "metadata": {},
   "source": [
    "# 지점별로 선형모델 생성하기"
   ]
  },
  {
   "cell_type": "code",
   "execution_count": 90,
   "id": "1965bede-bd60-46b9-90b1-82f1f6235388",
   "metadata": {
    "tags": []
   },
   "outputs": [],
   "source": [
    "import numpy as np\n",
    "from sklearn.model_selection import KFold\n",
    "import tensorflow as tf\n",
    "from sklearn.metrics import mean_squared_error\n",
    "import os\n",
    "import pandas as pd"
   ]
  },
  {
   "cell_type": "code",
   "execution_count": null,
   "id": "9acbe3be-fc93-4ff6-b1f7-bb11e4ef9a52",
   "metadata": {
    "tags": []
   },
   "outputs": [],
   "source": [
    "tf.__version__"
   ]
  },
  {
   "cell_type": "markdown",
   "id": "9c7bf64d-242f-49b1-98f0-f773d0bc18d5",
   "metadata": {},
   "source": [
    "## 1-1 입출력 데이터셋 준비"
   ]
  },
  {
   "cell_type": "code",
   "execution_count": null,
   "id": "be1665d4-b9ef-491d-9ae8-c6d2406986b3",
   "metadata": {
    "tags": []
   },
   "outputs": [],
   "source": [
    "pwd"
   ]
  },
  {
   "cell_type": "markdown",
   "id": "9a4e9717-5f0c-46b5-adc2-3a988f7723d5",
   "metadata": {},
   "source": [
    "### 예측 데이터 concat, label 설정"
   ]
  },
  {
   "cell_type": "code",
   "execution_count": 93,
   "id": "891dd88e-7e14-4634-97ad-d742ea23ef53",
   "metadata": {
    "tags": []
   },
   "outputs": [],
   "source": [
    "def concat_by_month(directory_path):\n",
    "    \"\"\"\n",
    "    CSV 파일을 읽어와 월별로 데이터를 분류하고 병합\n",
    "    모든 월의 데이터를 하나의 데이터프레임으로 return, 각 행은 월 정보를 포함\n",
    "\n",
    "    :param directory_path: CSV 파일이 저장된 디렉토리 경로\n",
    "    :return: 하나의 데이터프레임으로 병합된 월별 데이터\n",
    "    \"\"\"\n",
    "    # 파일 목록을 읽어온다\n",
    "    file_list = [file for file in os.listdir(directory_path) if file.endswith('.csv')]\n",
    "\n",
    "    # 월별 데이터를 저장할 딕셔너리 초기화\n",
    "    monthly_data = {str(i): [] for i in range(1, 13)}\n",
    "\n",
    "    # 파일명에서 날짜를 파싱하여 해당 월에 맞는 데이터 프레임 리스트에 추가\n",
    "    for file_name in file_list:\n",
    "        date_part = file_name.split('_')[4]  # '20220614' 형식의 문자열 추출\n",
    "        month = date_part[4:6]  # 월 정보 추출\n",
    "        \n",
    "        if month[0] == '0':\n",
    "            month = month[1]  # '01'과 같은 경우 '1'로 변환\n",
    "        \n",
    "        # 파일 읽기\n",
    "        file_path = os.path.join(directory_path, file_name)\n",
    "        df = pd.read_csv(file_path)\n",
    "        df = df[:-1]\n",
    "        df['Month'] = month  # 월 정보를 데이터프레임에 추가\n",
    "\n",
    "        # 해당 월에 데이터프레임 추가\n",
    "        monthly_data[month].append(df)\n",
    "        \n",
    "    # 모든 월별 데이터를 하나의 데이터프레임으로 병합\n",
    "    month_order = ['6', '7', '8', '9', '10', '11', '12', '1', '2', '3', '4', '5']\n",
    "    all_months_df = pd.concat([pd.concat(monthly_data[month], ignore_index=True) for month in month_order if monthly_data[month]], ignore_index=True)\n",
    "    \n",
    "    return all_months_df"
   ]
  },
  {
   "cell_type": "code",
   "execution_count": 94,
   "id": "1d4fe96b-96a0-47c6-8ef2-d523f8341aac",
   "metadata": {
    "tags": []
   },
   "outputs": [],
   "source": [
    "month_df = concat_by_month('../south3')"
   ]
  },
  {
   "cell_type": "code",
   "execution_count": null,
   "id": "7d1d136e-18bc-49b6-9616-82f0d52594f4",
   "metadata": {
    "tags": []
   },
   "outputs": [],
   "source": [
    "month_df"
   ]
  },
  {
   "cell_type": "markdown",
   "id": "ddc4e1ee-ce59-4b2a-ad24-74865ae7cb9e",
   "metadata": {},
   "source": [
    "### 관측데이터 label 설정"
   ]
  },
  {
   "cell_type": "code",
   "execution_count": 96,
   "id": "9f227eb6-977e-4673-931f-20413ea86887",
   "metadata": {
    "tags": []
   },
   "outputs": [],
   "source": [
    "def create_month_column(filename):\n",
    "    \"\"\"\n",
    "    현재 디렉토리에서 지정된 파일을 읽어 'obs_time' 열을 파싱하여 월 정보를 추출하고\n",
    "    새로운 'Month' 열을 데이터프레임에 추가한 후 반환합니다.\n",
    "\n",
    "    :param filename: 읽을 파일의 이름\n",
    "    :return: 'Month' 열이 추가된 데이터프레임\n",
    "    \"\"\"\n",
    "    # 현재 디렉토리 경로 설정\n",
    "    current_directory = os.getcwd()\n",
    "    # 파일 경로 완성\n",
    "    file_path = os.path.join(current_directory, filename)\n",
    "    \n",
    "    # 파일이 존재하는지 확인\n",
    "    if os.path.exists(file_path):\n",
    "        # 파일 읽기\n",
    "        df = pd.read_csv(file_path)\n",
    "        # 'obs_time' 열이 있는지 확인 후 처리\n",
    "        if 'obs_time' in df.columns:\n",
    "            # 'obs_time' 열에서 날짜를 파싱하여 월 정보 추출\n",
    "            df['Month'] = pd.to_datetime(df['obs_time']).dt.month\n",
    "            return df\n",
    "        else:\n",
    "            raise ValueError(\"The file does not contain an 'obs_time' column.\")\n",
    "    else:\n",
    "        raise FileNotFoundError(\"The specified file does not exist in the current directory.\")\n",
    "\n",
    "# 사용 예:\n",
    "# filename = 'your_data.csv'\n",
    "# updated_data = create_month_column_from_obs_time(filename)\n",
    "# print(updated_data.head())  # 'obs_time'과 'Month' 열을 포함하는 데이터프레임 출력\n"
   ]
  },
  {
   "cell_type": "code",
   "execution_count": 97,
   "id": "066f5f7c-25f0-4a41-8f40-6c022ea40bb5",
   "metadata": {
    "tags": []
   },
   "outputs": [],
   "source": [
    "obs_df = create_month_column('../../RnD_Ensemble/south_obs_KG_0025.csv')"
   ]
  },
  {
   "cell_type": "code",
   "execution_count": null,
   "id": "ae4a3a5e-4c5c-4813-8e13-9da3e8b762fb",
   "metadata": {
    "tags": []
   },
   "outputs": [],
   "source": [
    "obs_df"
   ]
  },
  {
   "cell_type": "markdown",
   "id": "222a2928-3b21-45e2-b6e6-51b7cfc06036",
   "metadata": {},
   "source": [
    "### 입출력 데이터 프레임 생성"
   ]
  },
  {
   "cell_type": "code",
   "execution_count": null,
   "id": "42bf4ed3-7b40-4fba-a6a5-c2464473b1a8",
   "metadata": {
    "tags": []
   },
   "outputs": [],
   "source": [
    "obs_df.columns"
   ]
  },
  {
   "cell_type": "code",
   "execution_count": null,
   "id": "fe25ac42-d2d7-41dc-910d-74b0f02b23e5",
   "metadata": {
    "tags": []
   },
   "outputs": [],
   "source": [
    "month_df.columns"
   ]
  },
  {
   "cell_type": "code",
   "execution_count": 101,
   "id": "63caddac-95bf-4f26-847e-a4947fbfbd48",
   "metadata": {
    "tags": []
   },
   "outputs": [],
   "source": [
    "def create_input_output_data(df_obs, df_pred, start_date, end_date):\n",
    "    \"\"\"\n",
    "    파라미터:\n",
    "    - df_obs (pd.DataFrame): 관측 데이터를 포함하는 데이터프레임\n",
    "    - df_pred (pd.DataFrame): 예측 데이터를 포함하는 데이터프레임\n",
    "    - start_date (str 또는 pd.Timestamp): 데이터 선택을 시작할 날짜 ('YYYY-MM-DD' 형식).\n",
    "    - end_date (str 또는 pd.Timestamp): 데이터 선택을 종료할 날짜 ('YYYY-MM-DD' 형식).\n",
    "\n",
    "    반환 값:\n",
    "    - input_df (pd.DataFrame): 관측값과 예측값이 결합된 (96시간씩) 데이터 프레임\n",
    "    - output_df (pd.DataFrame): 관측 데이터 (48시간씩) 출력 데이터 프레임\n",
    "    \"\"\"\n",
    "    \n",
    "    # 시간 열을 datetime 형식으로 변환\n",
    "    df_obs['obs_time'] = pd.to_datetime(df_obs['obs_time'])\n",
    "    df_pred['obs_time'] = pd.to_datetime(df_pred['model_fct']) # model_fct를 통일성을 위해 obs_time 이름으로 사용\n",
    "    \n",
    "    start_date = pd.to_datetime(start_date)\n",
    "    end_date = pd.to_datetime(end_date)\n",
    "\n",
    "    # input, ouput dataframes\n",
    "    input_frames = []\n",
    "    output_frames = []\n",
    "    \n",
    "    start_index = 0\n",
    "    start_index2 = 0\n",
    "    # 날짜별로 데이터 프레임 구성\n",
    "    for single_date in pd.date_range(start_date, end_date):\n",
    "        \n",
    "        # 관측값은 전일 0h-23h만 선택\n",
    "\n",
    "        # 시작 인덱스로부터 24개의 행을 슬라이싱\n",
    "        obs_data_yesterday = df_obs.loc[start_index:start_index + 23, ['obs_time', 'obs_u', 'obs_v']].copy()\n",
    "        obs_data_yesterday.rename(columns={'obs_u': 'u', 'obs_v': 'v'}, inplace=True)\n",
    "        \n",
    "        start_index += 24\n",
    "        # 'type' 컬럼을 추가하고 'obs'로 설정 (데이터 확인용)\n",
    "        obs_data_yesterday['type'] = 'obs'\n",
    "        \n",
    "        # 예측값은 당일에서 24~71h 후\n",
    "        # single_date에 해당하는 인덱스를 찾기\n",
    "\n",
    "        # 시작 인덱스로부터 72개의 행을 슬라이싱\n",
    "        pred_data_range = df_pred.loc[start_index2:start_index2 + 71, ['obs_time', 'model_u', 'model_v']].copy()\n",
    "        start_index2 += 72\n",
    "        \n",
    "        # 열 이름 변경 및 'type' 컬럼 추가 (데이터 확인용)\n",
    "        pred_data_range.rename(columns={'model_u': 'u', 'model_v': 'v'}, inplace=True)\n",
    "        pred_data_range['type'] = 'model'\n",
    "        if not pred_data_range.empty and len(pred_data_range) >= 25:\n",
    "            month_value = pred_data_range['obs_time'].iloc[24].month\n",
    "            pred_data_range['month'] = int(month_value)\n",
    "            obs_data_yesterday['month'] = int(month_value)\n",
    "        elif not pred_data_range.empty:\n",
    "            pred_data_range['month'] = pred_data_range['obs_time'].dt.month.iloc[0]\n",
    "        else:\n",
    "            continue  # 데이터가 없으면 이번 루프는 건너뛰기\n",
    "        \n",
    "        # input 데이터는 관측값과 예측값을 병합 (관측치 24시간 + 예측치 72시간)\n",
    "        combined_input = pd.concat([obs_data_yesterday, pred_data_range])\n",
    "\n",
    "        \n",
    "        # output 데이터는 다음날 24h부터 내일 모레까지 71h의 관측값\n",
    "        output_data = df_obs[\n",
    "            (df_obs['obs_time'] >= single_date + pd.DateOffset(days=1)) & \n",
    "            (df_obs['obs_time'] < single_date + pd.DateOffset(days=3))\n",
    "        ][['obs_time', 'obs_u', 'obs_v']].copy()\n",
    "        output_data.rename(columns={'obs_u': 'u', 'obs_v': 'v'}, inplace=True)\n",
    "        output_data['month'] = output_data['obs_time'].iloc[0].month\n",
    "\n",
    "        \n",
    "        input_frames.append(combined_input)\n",
    "        output_frames.append(output_data)\n",
    "\n",
    "    \n",
    "    input_df = pd.concat(input_frames, ignore_index=True)\n",
    "    output_df = pd.concat(output_frames, ignore_index=True)\n",
    "    \n",
    "    # 모든 데이터 프레임에서 'obs_time' 열 이름을 'time'으로 변경\n",
    "    input_df.rename(columns={'obs_time': 'time'}, inplace=True)\n",
    "    output_df.rename(columns={'obs_time': 'time'}, inplace=True)\n",
    "\n",
    "    return input_df, output_df\n"
   ]
  },
  {
   "cell_type": "code",
   "execution_count": 102,
   "id": "1881e3d4-6505-4780-b167-4f7a3c2fa718",
   "metadata": {
    "tags": []
   },
   "outputs": [],
   "source": [
    "# 입력 및 출력 데이터 생성\n",
    "input_df, output_df = create_input_output_data(obs_df, month_df, '2022-06-01', '2023-05-31')"
   ]
  },
  {
   "cell_type": "code",
   "execution_count": null,
   "id": "41bc96e2-4736-4dbc-a500-2e01a45f21e5",
   "metadata": {
    "tags": []
   },
   "outputs": [],
   "source": [
    "input_df[:96]"
   ]
  },
  {
   "cell_type": "code",
   "execution_count": null,
   "id": "68e97df9-160d-4576-b3cc-a4de04d475aa",
   "metadata": {
    "tags": []
   },
   "outputs": [],
   "source": [
    "# 출력 데이터는 관측치 48개씩\n",
    "output_df[:48]"
   ]
  },
  {
   "cell_type": "markdown",
   "id": "ddfbcdf2-cc37-4476-bdc5-cb30728a047c",
   "metadata": {},
   "source": [
    "### 96(192), 48(96)개씩 데이터 잘라서 입출력 생성"
   ]
  },
  {
   "cell_type": "code",
   "execution_count": 105,
   "id": "5aa15faa-d8c0-4fef-908f-ed39bb337c27",
   "metadata": {
    "tags": []
   },
   "outputs": [],
   "source": [
    "from tensorflow.keras.models import Sequential\n",
    "from tensorflow.keras.layers import Dense"
   ]
  },
  {
   "cell_type": "code",
   "execution_count": 106,
   "id": "e05258ef-f425-4891-96a8-de71789c8b3d",
   "metadata": {
    "tags": []
   },
   "outputs": [],
   "source": [
    "# 시간, u,v, month 열만 사용\n",
    "input = input_df[['time', 'u', 'v', 'month']]\n",
    "output = output_df[['time', 'u', 'v', 'month']]"
   ]
  },
  {
   "cell_type": "code",
   "execution_count": null,
   "id": "28b8eaf4-59f7-4e55-b133-e24b85dfa81a",
   "metadata": {
    "tags": []
   },
   "outputs": [],
   "source": [
    "input[:26]"
   ]
  },
  {
   "cell_type": "code",
   "execution_count": 108,
   "id": "9beb9fb4-7a84-4d93-be5c-975d117fccf3",
   "metadata": {
    "tags": []
   },
   "outputs": [],
   "source": [
    "input.to_csv('input.csv')"
   ]
  },
  {
   "cell_type": "code",
   "execution_count": null,
   "id": "fe92b3fb-118f-4344-b147-6acdf2da9ac8",
   "metadata": {
    "tags": []
   },
   "outputs": [],
   "source": [
    "output"
   ]
  },
  {
   "cell_type": "code",
   "execution_count": 110,
   "id": "7c298e7a-bfab-4cd1-9442-0edee23c585f",
   "metadata": {
    "tags": []
   },
   "outputs": [],
   "source": [
    "# time열을 input, ouput 데이터프레임의 인덱스로 지정\n",
    "columns = ['u', 'v', 'month']\n",
    "\n",
    "input_feat = input_df[columns]\n",
    "input_feat.index = input_df['time']\n",
    "\n",
    "output_feat = output_df[columns]\n",
    "output_feat.index = output_df['time']"
   ]
  },
  {
   "cell_type": "code",
   "execution_count": null,
   "id": "f4ab136c-546f-4e84-b0b5-2451d005911d",
   "metadata": {
    "tags": []
   },
   "outputs": [],
   "source": [
    "input_feat[96*3+23:96*3+50]"
   ]
  },
  {
   "cell_type": "code",
   "execution_count": null,
   "id": "8705b5a9-09c0-4334-a059-1f962a320c04",
   "metadata": {
    "tags": []
   },
   "outputs": [],
   "source": [
    "output_feat"
   ]
  },
  {
   "cell_type": "code",
   "execution_count": 113,
   "id": "55ea9870-d297-4f20-be96-0c9afc6fa659",
   "metadata": {
    "tags": []
   },
   "outputs": [],
   "source": [
    "# DataFrame을 numpy 배열로 변환\n",
    "input_array = input_feat.values\n",
    "output_array = output_feat.values"
   ]
  },
  {
   "cell_type": "code",
   "execution_count": 114,
   "id": "012054b3-c2b1-4345-a8d3-dc3b8d85f0ee",
   "metadata": {
    "tags": []
   },
   "outputs": [],
   "source": [
    "# 배열별로 결측치 세기\n",
    "nan_count_in_input = np.sum(np.isnan(input_array))\n",
    "nan_count_in_output = np.sum(np.isnan(output_array))"
   ]
  },
  {
   "cell_type": "code",
   "execution_count": null,
   "id": "ffc5604e-1205-41c7-802d-1dac94af2c65",
   "metadata": {
    "tags": []
   },
   "outputs": [],
   "source": [
    "nan_count_in_input"
   ]
  },
  {
   "cell_type": "code",
   "execution_count": null,
   "id": "3af52776-a243-47fb-9d82-3665bc08c8db",
   "metadata": {
    "tags": []
   },
   "outputs": [],
   "source": [
    "nan_count_in_output"
   ]
  },
  {
   "cell_type": "code",
   "execution_count": null,
   "id": "820f2aa7-9270-406e-8e75-7ef70ea09c43",
   "metadata": {
    "tags": []
   },
   "outputs": [],
   "source": [
    "input_array.shape"
   ]
  },
  {
   "cell_type": "code",
   "execution_count": null,
   "id": "fd9b3f90-fb4a-4b19-9a27-6ef72d76d97d",
   "metadata": {
    "tags": []
   },
   "outputs": [],
   "source": [
    "output_array.shape"
   ]
  },
  {
   "cell_type": "code",
   "execution_count": null,
   "id": "a37f4958-e6ed-41e4-8800-0fc746dcefa1",
   "metadata": {
    "tags": []
   },
   "outputs": [],
   "source": [
    "len(input_array)"
   ]
  },
  {
   "cell_type": "code",
   "execution_count": null,
   "id": "1c5ae40a-88de-4a16-91d3-6fef16a21085",
   "metadata": {
    "tags": []
   },
   "outputs": [],
   "source": [
    "len(output_array)"
   ]
  },
  {
   "cell_type": "code",
   "execution_count": null,
   "id": "ea2a082f-7eba-4d14-83bc-33ecd84d7294",
   "metadata": {
    "tags": []
   },
   "outputs": [],
   "source": [
    "input_array[94*3:94*4]"
   ]
  },
  {
   "cell_type": "code",
   "execution_count": null,
   "id": "d29eeafe-0ca9-4adb-909e-8a835569efec",
   "metadata": {
    "tags": []
   },
   "outputs": [],
   "source": [
    "output_array[:2]"
   ]
  },
  {
   "cell_type": "markdown",
   "id": "20696e1b-e8ec-4be0-b5ef-431e0486a540",
   "metadata": {},
   "source": [
    "### 샘플 생성 및 nan 제거"
   ]
  },
  {
   "cell_type": "code",
   "execution_count": 123,
   "id": "e42a09c2-1aa4-4bcc-b967-31ba65b7046a",
   "metadata": {
    "tags": []
   },
   "outputs": [],
   "source": [
    "def simple_slice_data(input_data, output_data, input_window, output_window):\n",
    "    \"\"\"\n",
    "    파라미터:\n",
    "    - input_data (np.array): 모델 입력을 위한 원본 데이터 배열\n",
    "    - output_data (np.array): 모델 출력(예측 대상)을 위한 원본 데이터 배열\n",
    "    - input_window (int): 한 번에 입력으로 사용할 데이터 포인트의 수\n",
    "    - output_window (int): 한 번에 출력으로 사용할 데이터 포인트의 수\n",
    "\n",
    "    반환 값:\n",
    "    - X (np.array): 입력 데이터 슬라이스의 배열.\n",
    "    - y (np.array): 출력 데이터 슬라이스의 배열.\n",
    "    \"\"\"\n",
    "    \n",
    "    X = []\n",
    "    y = []\n",
    "\n",
    "    # 데이터셋의 최대 인덱스를 계산\n",
    "    max_index = len(output_data) // 48\n",
    "    print(\"max_index: {}\".format(max_index))\n",
    "    \n",
    "    for i in range(max_index):\n",
    "        \n",
    "        # 입출력 데이터 슬라이스\n",
    "        input_slice = input_data[i * input_window: (i + 1) * input_window]\n",
    "        output_slice = output_data[i * output_window: (i + 1) * output_window]\n",
    "\n",
    "        X.append(input_slice)\n",
    "        y.append(output_slice)\n",
    "\n",
    "    # 배열로 변환\n",
    "    X = np.array(X)\n",
    "    y = np.array(y)\n",
    "\n",
    "    return X, y\n"
   ]
  },
  {
   "cell_type": "code",
   "execution_count": null,
   "id": "03b8127e-fa16-4f86-a8af-2035c874d934",
   "metadata": {
    "tags": []
   },
   "outputs": [],
   "source": [
    "# 입력은 96개씩 행이 한 샘플, 출력은 48개씩 행이 한 샘플 (하루치)\n",
    "input_window = 96\n",
    "output_window = 48\n",
    "X, y = simple_slice_data(input_array, output_array, input_window, output_window)\n",
    "\n",
    "print(\"X shape:\", X.shape)  # (N, 96, 3)\n",
    "print(\"y shape:\", y.shape)  # (N, 48, 3)"
   ]
  },
  {
   "cell_type": "code",
   "execution_count": 125,
   "id": "139ee1d3-e06e-4026-95f5-00fb8529da3c",
   "metadata": {
    "tags": []
   },
   "outputs": [],
   "source": [
    "# 입출력에 있는 결측치 세기\n",
    "X_nan = np.sum(np.isnan(X))\n",
    "y_nan = np.sum(np.isnan(y))"
   ]
  },
  {
   "cell_type": "code",
   "execution_count": null,
   "id": "d739a38f-503d-44a1-862d-6d6aac3a7655",
   "metadata": {
    "tags": []
   },
   "outputs": [],
   "source": [
    "X_nan"
   ]
  },
  {
   "cell_type": "code",
   "execution_count": null,
   "id": "c24135af-b16a-4de9-9ff3-ca8a6b35fa46",
   "metadata": {
    "tags": []
   },
   "outputs": [],
   "source": [
    "y_nan"
   ]
  },
  {
   "cell_type": "code",
   "execution_count": null,
   "id": "f94009ae-eb76-4a5e-9218-322bac5039a1",
   "metadata": {
    "tags": []
   },
   "outputs": [],
   "source": [
    "len(X)"
   ]
  },
  {
   "cell_type": "code",
   "execution_count": null,
   "id": "2e845115-dfd3-4140-beeb-881202249a8e",
   "metadata": {
    "tags": []
   },
   "outputs": [],
   "source": [
    "len(y)"
   ]
  },
  {
   "cell_type": "code",
   "execution_count": null,
   "id": "775c4663-0451-432c-91da-6ba37a47c658",
   "metadata": {
    "tags": []
   },
   "outputs": [],
   "source": [
    "# 입력 데이터에서 결측치 위치 찾기\n",
    "nan_indices_input = np.unique(np.where(np.isnan(X))[0])\n",
    "nan_indices_input"
   ]
  },
  {
   "cell_type": "code",
   "execution_count": null,
   "id": "ed8e8e77-d794-4527-926a-374d96af4294",
   "metadata": {
    "tags": []
   },
   "outputs": [],
   "source": [
    "# 출력 데이터에서 결측치 위치 찾기\n",
    "nan_indices_output = np.unique(np.where(np.isnan(y))[0])\n",
    "nan_indices_output"
   ]
  },
  {
   "cell_type": "code",
   "execution_count": 132,
   "id": "e58e827a-45d4-4a9d-b3d1-b4fdd334877f",
   "metadata": {
    "tags": []
   },
   "outputs": [],
   "source": [
    "# 두 배열을 합쳐서 중복된 값 제거\n",
    "common_nan_indices = np.unique(np.concatenate([nan_indices_input, nan_indices_output]))"
   ]
  },
  {
   "cell_type": "code",
   "execution_count": null,
   "id": "e98f573b-ba03-40f3-bba7-23d64e6b08cf",
   "metadata": {
    "tags": []
   },
   "outputs": [],
   "source": [
    "nan_indices_input"
   ]
  },
  {
   "cell_type": "code",
   "execution_count": null,
   "id": "fe7db703-6920-4e79-a5c8-ab4f7ea8bbd5",
   "metadata": {
    "tags": []
   },
   "outputs": [],
   "source": [
    "nan_indices_output"
   ]
  },
  {
   "cell_type": "code",
   "execution_count": 135,
   "id": "0978952d-cfdf-49fc-a66f-3464895dfb56",
   "metadata": {
    "tags": []
   },
   "outputs": [],
   "source": [
    "# 두 배열을 합쳐서 중복된 값 제거\n",
    "common_nan_indices = np.unique(np.concatenate([nan_indices_input, nan_indices_output]))"
   ]
  },
  {
   "cell_type": "code",
   "execution_count": null,
   "id": "c6106517-3940-4db9-8840-44e56834e5f5",
   "metadata": {
    "tags": []
   },
   "outputs": [],
   "source": [
    "# input, output 샘플에서 통째로 날려야하는 n번째 샘플들\n",
    "len(common_nan_indices)"
   ]
  },
  {
   "cell_type": "code",
   "execution_count": null,
   "id": "fd135850-454b-42a9-9ddf-81d9a3f1d4ed",
   "metadata": {
    "tags": []
   },
   "outputs": [],
   "source": [
    "common_nan_indices"
   ]
  },
  {
   "cell_type": "code",
   "execution_count": 138,
   "id": "292fc722-602d-464b-9a57-81715302967d",
   "metadata": {
    "tags": []
   },
   "outputs": [],
   "source": [
    "# input보다 큰 샘플 개수 삭제\n",
    "valid_indices = common_nan_indices[common_nan_indices < len(X)]"
   ]
  },
  {
   "cell_type": "code",
   "execution_count": null,
   "id": "084a135f-dfc7-46da-863c-6fad14ce2ebb",
   "metadata": {
    "tags": []
   },
   "outputs": [],
   "source": [
    "len(valid_indices)"
   ]
  },
  {
   "cell_type": "code",
   "execution_count": null,
   "id": "c23edc04-9d1a-4978-b4cc-6764cb3bae1f",
   "metadata": {
    "tags": []
   },
   "outputs": [],
   "source": [
    "# input, ouput에서 common_nan_indices에 나열된 인덱스의 샘플들을 삭제\n",
    "cleaned_X = np.delete(X, valid_indices, axis=0)\n",
    "cleaned_y = np.delete(y, valid_indices, axis=0)\n",
    "\n",
    "# 제거되고 남은 샘플 개수 확인\n",
    "print(cleaned_X.shape)\n",
    "print(cleaned_y.shape)"
   ]
  },
  {
   "cell_type": "code",
   "execution_count": 141,
   "id": "048719af-fc13-48bb-bc55-71dbe9d21ef1",
   "metadata": {
    "tags": []
   },
   "outputs": [],
   "source": [
    "# 배열 전체에서 NaN 값 확인\n",
    "nan_exists = np.isnan(cleaned_y).any()"
   ]
  },
  {
   "cell_type": "code",
   "execution_count": null,
   "id": "7bd34f8f-d991-40c2-80e0-d37910f363f6",
   "metadata": {
    "tags": []
   },
   "outputs": [],
   "source": [
    "nan_exists"
   ]
  },
  {
   "cell_type": "code",
   "execution_count": null,
   "id": "6dc91ccd-7a18-4d89-85f9-15c18edb6fca",
   "metadata": {
    "tags": []
   },
   "outputs": [],
   "source": [
    "print(cleaned_X.shape)"
   ]
  },
  {
   "cell_type": "code",
   "execution_count": null,
   "id": "75115147-9282-4eb4-b3c4-97a27bce4a88",
   "metadata": {
    "tags": []
   },
   "outputs": [],
   "source": [
    "cleaned_X[0]"
   ]
  },
  {
   "cell_type": "code",
   "execution_count": null,
   "id": "91ab50fe-a58c-481b-a116-87e129391904",
   "metadata": {
    "tags": []
   },
   "outputs": [],
   "source": [
    "cleaned_y.shape"
   ]
  },
  {
   "cell_type": "code",
   "execution_count": null,
   "id": "0e00d88f-7ff2-4ccf-9111-6d2a1136f587",
   "metadata": {
    "tags": []
   },
   "outputs": [],
   "source": [
    "import numpy as np\n",
    "import pandas as pd\n",
    "\n",
    "# cleaned_X_reshaped와 cleaned_y_reshaped 배열이 주어졌다고 가정\n",
    "# 예시 데이터 생성을 위한 코드는 생략합니다. 실제 데이터 사용을 가정\n",
    "\n",
    "# 각 시간 단계를 별도의 행으로 변환하고, 열은 u, v, month로 설정\n",
    "# cleaned_X_reshaped.reshape(-1, 3)는 모든 시간 단계를 행으로, 특성을 열로 펼칩니다.\n",
    "df_X = pd.DataFrame(cleaned_X.reshape(-1, 3), columns=['u', 'v', 'month'])\n",
    "df_y = pd.DataFrame(cleaned_y.reshape(-1, 3), columns=['u', 'v', 'month'])\n",
    "\n",
    "# 'month' 열을 정수형으로 변환\n",
    "df_X['month'] = df_X['month'].astype(int)\n",
    "df_y['month'] = df_y['month'].astype(int)\n",
    "\n",
    "# DataFrame을 CSV 파일로 저장\n",
    "df_X.to_csv(\"X.csv\", index=False)\n",
    "df_y.to_csv(\"y.csv\", index=False)\n",
    "\n",
    "# 저장된 파일 확인 메시지\n",
    "print(\"Data has been saved to cleaned_X_reshaped.csv and cleaned_y_reshaped.csv.\")\n"
   ]
  },
  {
   "cell_type": "markdown",
   "id": "69eafecd-5df6-4d30-90ec-b063719ecd6b",
   "metadata": {},
   "source": [
    "## 월별인덱스 확인 및 정규화"
   ]
  },
  {
   "cell_type": "code",
   "execution_count": 147,
   "id": "aaa98358-3e45-4a50-8c2d-88431736f6cd",
   "metadata": {
    "tags": []
   },
   "outputs": [],
   "source": [
    "from sklearn.model_selection import KFold\n",
    "from sklearn.metrics import mean_squared_error\n",
    "from tensorflow.keras.models import Sequential\n",
    "from tensorflow.keras.layers import Dense, Flatten, Input, Reshape"
   ]
  },
  {
   "cell_type": "code",
   "execution_count": null,
   "id": "78d08521-e8a8-497d-80f5-57a5ffc4546c",
   "metadata": {
    "tags": []
   },
   "outputs": [],
   "source": [
    "# 월별로 인덱스를 분할할 리스트 초기화\n",
    "monthly_indices = [[] for _ in range(12)]\n",
    "\n",
    "total = 0\n",
    "# 월별로 인덱스를 분할\n",
    "for month in range(1, 13):\n",
    "    indices = [i for i in range(cleaned_y.shape[0]) if int(cleaned_y[i, 0, 2]) == month]\n",
    "    \n",
    "    # 중복 제거 및 리스트로 변환\n",
    "    total += len(indices)\n",
    "    print(\"{0}월의 인덱스: {1}\".format(month, indices))\n",
    "    print(\"{0}월의 인덱스 개수: {1}\".format(month,len(indices)))\n",
    "    print('================================')\n",
    "    monthly_indices[month-1].append(indices)\n",
    "\n",
    "print(\"전체 index 개수: {}개\".format(total))\n",
    "\n",
    "# K-폴드 교차 검증 설정\n",
    "kf = KFold(n_splits=12)"
   ]
  },
  {
   "cell_type": "code",
   "execution_count": null,
   "id": "da0ff714-46dd-4aab-a78f-b17e491aef47",
   "metadata": {
    "tags": []
   },
   "outputs": [],
   "source": [
    "cleaned_X.shape"
   ]
  },
  {
   "cell_type": "code",
   "execution_count": null,
   "id": "a26abc58",
   "metadata": {
    "tags": []
   },
   "outputs": [],
   "source": [
    "cleaned_y.shape"
   ]
  },
  {
   "cell_type": "markdown",
   "id": "481181df",
   "metadata": {},
   "source": [
    "## feature 4로 X 분리"
   ]
  },
  {
   "cell_type": "code",
   "execution_count": null,
   "id": "348d0403",
   "metadata": {
    "tags": []
   },
   "outputs": [],
   "source": [
    "# 각 24시간 구간을 4개의 feature로 나누기 위해 reshape\n",
    "# (batch_size, total_time_steps, features) -> (batch_size, 4, time_steps_per_feature, original_features)\n",
    "reshaped_X = cleaned_X.reshape((cleaned_X.shape[0], 4, 24, cleaned_X.shape[2]))\n",
    "\n",
    "# 각 시간 구간별로 feature명을 지정하고 데이터프레임으로 변환 후 numpy 배열로 변환\n",
    "numpy_arrays = []\n",
    "for i in range(reshaped_X.shape[1]):  # 4개의 24시간 구간\n",
    "    data = reshaped_X[:, i, :, :].reshape(-1, reshaped_X.shape[3])\n",
    "    df = pd.DataFrame(data, columns=[f\"feature_{j+1}\" for j in range(reshaped_X.shape[3])])\n",
    "    numpy_array = df.to_numpy()  # 데이터프레임을 numpy 배열로 변환\n",
    "    numpy_arrays.append(numpy_array)\n",
    "    print(f\"Numpy array for time segment {i+1}:\")\n",
    "    print(numpy_array)\n",
    "    print(\"\\n\")\n",
    "\n",
    "# 각 시간 구간에 대한 numpy 배열\n",
    "feature1, feature2, feature3, feature4 = numpy_arrays\n",
    "\n",
    "# feature들을 24시간씩 잘라서 (sample_size, 24, 3) 형태로 변환\n",
    "def reshape_features(feature):\n",
    "    num_samples = feature.shape[0] // 24\n",
    "    reshaped_feature = feature[:num_samples * 24].reshape(num_samples, 24, feature.shape[1])\n",
    "    return reshaped_feature\n",
    "\n",
    "feature1 = reshape_features(feature1)\n",
    "feature2 = reshape_features(feature2)\n",
    "feature3 = reshape_features(feature3)\n",
    "feature4 = reshape_features(feature4)"
   ]
  },
  {
   "cell_type": "code",
   "execution_count": null,
   "id": "59ef8e3c",
   "metadata": {
    "tags": []
   },
   "outputs": [],
   "source": [
    "# 마지막 차원의 크기를 2로 변경 (예시로 첫 번째와 두 번째 feature만 사용)\n",
    "reshaped_X = reshaped_X[:, :, :, :2]\n",
    "reshaped_X.shape"
   ]
  },
  {
   "cell_type": "code",
   "execution_count": null,
   "id": "4c30c818",
   "metadata": {},
   "outputs": [],
   "source": [
    "reshaped_X"
   ]
  },
  {
   "cell_type": "code",
   "execution_count": 154,
   "id": "5d9c80e3",
   "metadata": {
    "tags": []
   },
   "outputs": [],
   "source": [
    "X = np.concatenate((feature1, feature2, feature3, feature4), axis=2)"
   ]
  },
  {
   "cell_type": "code",
   "execution_count": null,
   "id": "990b60a1",
   "metadata": {
    "tags": []
   },
   "outputs": [],
   "source": [
    "X.shape"
   ]
  },
  {
   "cell_type": "code",
   "execution_count": 156,
   "id": "422131d8",
   "metadata": {
    "tags": []
   },
   "outputs": [],
   "source": [
    "X = np.delete(X, [2,5,8,11], axis=2)"
   ]
  },
  {
   "cell_type": "code",
   "execution_count": 157,
   "id": "fbeb1cb8",
   "metadata": {
    "tags": []
   },
   "outputs": [],
   "source": [
    "import pandas as pd\n",
    "\n",
    "# 샘플 하나 선택\n",
    "sample = X[0]  # 첫 번째 샘플 선택, shape=(24, 8)\n",
    "\n",
    "# DataFrame으로 변환\n",
    "df = pd.DataFrame(sample)\n"
   ]
  },
  {
   "cell_type": "code",
   "execution_count": null,
   "id": "285699a4",
   "metadata": {},
   "outputs": [],
   "source": [
    "df"
   ]
  },
  {
   "cell_type": "code",
   "execution_count": null,
   "id": "c03be6f7",
   "metadata": {},
   "outputs": [],
   "source": [
    "X"
   ]
  },
  {
   "cell_type": "code",
   "execution_count": null,
   "id": "06ff7cee",
   "metadata": {},
   "outputs": [],
   "source": [
    "cleaned_y.shape"
   ]
  },
  {
   "cell_type": "code",
   "execution_count": 161,
   "id": "6c15da45",
   "metadata": {
    "tags": []
   },
   "outputs": [],
   "source": [
    "# 3번째 열을 제거\n",
    "y_processed = cleaned_y[:, :, :2]"
   ]
  },
  {
   "cell_type": "code",
   "execution_count": null,
   "id": "e6821107",
   "metadata": {
    "tags": []
   },
   "outputs": [],
   "source": [
    "y_processed.shape"
   ]
  },
  {
   "cell_type": "code",
   "execution_count": null,
   "id": "20cf2fb5",
   "metadata": {},
   "outputs": [],
   "source": [
    "X.shape"
   ]
  },
  {
   "cell_type": "markdown",
   "id": "0bb772c6-75af-46e2-9cd7-87179885d249",
   "metadata": {},
   "source": [
    "# 2. 모델 성능 측정"
   ]
  },
  {
   "cell_type": "markdown",
   "id": "3eeae571-3d7a-4164-97c7-1267d4973bb0",
   "metadata": {},
   "source": [
    "## 시간대별 (24~71h) 데이터 정리 및 저장"
   ]
  },
  {
   "cell_type": "code",
   "execution_count": 164,
   "id": "e2bf95b2-5dc0-4512-9b77-326454115db6",
   "metadata": {
    "tags": []
   },
   "outputs": [],
   "source": [
    "from tensorflow.keras.callbacks import EarlyStopping\n",
    "from tensorflow.keras.callbacks import ReduceLROnPlateau\n",
    "import matplotlib.pyplot as plt\n",
    "from sklearn.model_selection import train_test_split\n",
    "from tensorflow.keras.models import Sequential\n",
    "from tensorflow.keras.layers import Input, LSTM, PReLU, Dense, AveragePooling1D, MaxPooling1D, Dropout, BatchNormalization, Conv1D, MaxPooling1D, UpSampling1D, Flatten, Dense, Reshape\n",
    "from tensorflow.keras.optimizers import Adam, SGD, RMSprop, Adagrad\n",
    "import itertools\n",
    "from tensorflow.keras.initializers import glorot_normal\n",
    "from sklearn.preprocessing import StandardScaler, MaxAbsScaler, MinMaxScaler\n",
    "from tensorflow.keras.regularizers import l2\n",
    "from tensorflow.keras.layers import LeakyReLU ,Lambda, Activation, Bidirectional,GlobalMaxPooling1D\n",
    "from keras.utils import plot_model\n",
    "from tensorflow.keras.models import Model\n"
   ]
  },
  {
   "cell_type": "code",
   "execution_count": 165,
   "id": "bc5ea049-9e3b-40b8-96b7-94637326426f",
   "metadata": {
    "tags": []
   },
   "outputs": [],
   "source": [
    "import matplotlib.pyplot as plt\n",
    "import numpy as np\n",
    "from matplotlib import font_manager, rc\n",
    "\n",
    "plt.rc('font', family='NanumGothic')\n",
    "\n",
    "def plot_loss_and_rmse_graphs(history, test_loss, month):\n",
    "    \"\"\"\n",
    "    주어진 history 객체를 사용하여 훈련 및 검증 손실(MSE) 그래프와 RMSE 그래프를 로그 스케일로 그립니다.\n",
    "    \"\"\"\n",
    "\n",
    "    plt.figure(figsize=(12, 6))\n",
    "\n",
    "    # 훈련 및 검증 손실 추이 그래프 (MSE)\n",
    "    plt.subplot(121)\n",
    "    plt.plot(history.history['loss'], label='Training Loss (MSE)')\n",
    "    plt.plot(history.history['val_loss'], label='Validation Loss (MSE)')\n",
    "    plt.axhline(y=test_loss, color='r', linestyle='-', label='Test Loss (MSE)')\n",
    "    plt.xlabel('Epoch')\n",
    "    plt.ylabel('Loss (MSE)')\n",
    "    plt.legend(loc='upper right')\n",
    "    plt.title(f'Model Loss (MSE) - Month {month+1}')\n",
    "    plt.grid(True)\n",
    "    plt.tight_layout()\n",
    "    \n",
    "    # RMSE 값 계산\n",
    "    train_rmse = [round(np.sqrt(x), 4) for x in history.history['loss']]\n",
    "    val_rmse = [round(np.sqrt(x), 4) for x in history.history['val_loss']]\n",
    "    test_rmse = round(np.sqrt(test_loss), 4)\n",
    "    \n",
    "    # 훈련 및 검증 RMSE 그래프\n",
    "    plt.subplot(122)\n",
    "    plt.plot(train_rmse, label='Training RMSE')\n",
    "    plt.plot(val_rmse, label='Validation RMSE')\n",
    "    plt.axhline(y=test_rmse, color='r', linestyle='-', label='Test RMSE')\n",
    "    plt.xlabel('Epoch')\n",
    "    plt.ylabel('RMSE')\n",
    "    plt.legend(loc='upper right')\n",
    "    plt.title(f'Model RMSE - Month {month+1}')\n",
    "    plt.grid(True)\n",
    "    plt.tight_layout()\n",
    "    \n",
    "    plt.show()\n"
   ]
  },
  {
   "cell_type": "code",
   "execution_count": 187,
   "id": "f12b1dd9",
   "metadata": {},
   "outputs": [],
   "source": [
    "def build_regression_model(input_steps, features, output_steps, output_features, CONV_WIDTH, STRIDE):\n",
    "    inputs = Input(shape=(input_steps, features))\n",
    "    x = Conv1D(filters=32, kernel_size=CONV_WIDTH, strides=STRIDE, activation='elu')(inputs)\n",
    "    x = Dropout(0.4)(x)\n",
    "    \n",
    "    residual = Flatten()(x)\n",
    "    dense_out = Dense(units=output_steps * output_features, activation='linear')(residual)\n",
    "    outputs = Reshape((output_steps, output_features))(dense_out)\n",
    "    \n",
    "    # Functional API로 모델 생성\n",
    "    model = Model(inputs=inputs, outputs=outputs)\n",
    "    \n",
    "    optimizer = SGD(learning_rate=0.01, momentum=0.9, nesterov=True)\n",
    "    model.compile(optimizer=optimizer, loss='mse', metrics=['mse'])\n",
    "\n",
    "    return model"
   ]
  },
  {
   "cell_type": "code",
   "execution_count": 188,
   "id": "ee4581e5-f297-4afe-a732-8a78f6019a81",
   "metadata": {
    "tags": []
   },
   "outputs": [],
   "source": [
    "from IPython.display import Image\n",
    "from sklearn.preprocessing import RobustScaler\n",
    "\n",
    "def calculate_and_store_results(cleaned_X, cleaned_y, unique_monthly_indices):\n",
    "    # 결과를 저장할 딕셔너리 초기화\n",
    "    results_dict = {i: {'predictions': [], 'true_values': []} for i in range(48)}\n",
    "    all_results = []  # 모든 결과를 담기 위한 리스트\n",
    "    all_loss = []\n",
    "    all_val_loss = []\n",
    "    \n",
    "    # 모든 폴드에 대한 손실 값을 저장할 리스트\n",
    "    fold_train_losses = []\n",
    "    fold_val_losses = []\n",
    "    fold_test_losses = []\n",
    "    fold_rmse_values = []\n",
    "    \n",
    "    # 12-fold 검증\n",
    "    for month in range(12):\n",
    "        \n",
    "        # 인덱스 설정\n",
    "        test_indices = unique_monthly_indices[month]\n",
    "        train_indices = []\n",
    "        \n",
    "        for month_idx in range(12):\n",
    "            if month_idx != month:\n",
    "                train_indices.extend(unique_monthly_indices[month_idx])\n",
    "\n",
    "        # 이중 리스트를 하나의 리스트로 풀어내기\n",
    "        train_flatten_indices = list(itertools.chain(*train_indices))\n",
    "        test_flatten_indices = list(itertools.chain(*test_indices))\n",
    "    \n",
    "        print(\"test_indices{}\".format(test_flatten_indices))\n",
    "        \n",
    "        X_test = cleaned_X[test_flatten_indices, :, :]\n",
    "        y_test = cleaned_y[test_flatten_indices, :, :]\n",
    "        X_train = cleaned_X[train_flatten_indices, :, :]\n",
    "        y_train = cleaned_y[train_flatten_indices, :, :]\n",
    "\n",
    "        # 예측 실행 전 데이터 존재 여부 확인 (월 전체가 결측치인 경우)\n",
    "        if X_test.size == 0:\n",
    "            print(\"No data available for predictions.\")\n",
    "            continue\n",
    "            \n",
    "        # u,v를 이어붙여서 모양 재생성\n",
    "        #y_test_reshaped = y_test.reshape(y_test.shape[0], -1)\n",
    "        #y_train_reshaped = y_train.reshape(y_train.shape[0], -1)\n",
    "\n",
    "        # train, validation data split\n",
    "        X_train_reshaped, X_val_reshaped, y_train_reshaped, y_val_reshaped = train_test_split(\n",
    "            X_train, y_train, test_size=0.2, random_state=42, shuffle=False)\n",
    "        \n",
    "        # 2차원 배열로 변환\n",
    "        X_test_reshaped = X_test.reshape(X_test.shape[0] * X_test.shape[1], X_test.shape[2])\n",
    "        X_val_reshaped = X_val_reshaped.reshape(X_val_reshaped.shape[0] * X_val_reshaped.shape[1], X_val_reshaped.shape[2])\n",
    "        X_train_reshaped = X_train_reshaped.reshape(X_train_reshaped.shape[0] * X_train_reshaped.shape[1], X_train_reshaped.shape[2])\n",
    "        \n",
    "        # 스케일러 초기화 및 훈련 데이터에 대해 fit\n",
    "        scaler = MaxAbsScaler()\n",
    "        X_train_reshaped = scaler.fit_transform(X_train_reshaped)\n",
    "        X_val_reshaped = scaler.transform(X_val_reshaped)\n",
    "        X_test_reshaped = scaler.transform(X_test_reshaped)\n",
    "        \n",
    "        # 다시 3차원 배열로 변환\n",
    "        X_train_reshaped = X_train_reshaped.reshape(-1, 24, 8)\n",
    "        X_val_reshaped = X_val_reshaped.reshape(-1, 24, 8)\n",
    "        X_test_reshaped = X_test_reshaped.reshape(-1, 24, 8)\n",
    "        \n",
    "        print(\"print test, train, validation shape\")\n",
    "        print(X_test_reshaped.shape)\n",
    "        print(y_test.shape)\n",
    "        print(X_train_reshaped.shape)\n",
    "        print(y_train_reshaped.shape)\n",
    "        print(X_val_reshaped.shape)\n",
    "        print(y_val_reshaped.shape)\n",
    "\n",
    "        # 입력 데이터의 형태\n",
    "        input_steps = 24\n",
    "        features = 8\n",
    "        output_steps = 48  # 예측하고자 하는 출력의 time_steps\n",
    "        output_features = 2  # 예측하고자 하는 출력의 feature 수\n",
    "        CONV_WIDTH = 2\n",
    "        STRIDE = 1\n",
    "        model = build_regression_model(input_steps, features, output_steps, output_features, CONV_WIDTH, STRIDE)\n",
    "        \n",
    "        # 조기 종료 및 학습률 감소 콜백 설정\n",
    "        early_stopping = EarlyStopping(monitor='val_loss', patience=30, restore_best_weights=True)\n",
    "        \n",
    "        # 모델 학습 및 손실 추적\n",
    "        history = model.fit(X_train_reshaped, y_train_reshaped, epochs=400, batch_size=128,\n",
    "                            validation_data=(X_val_reshaped, y_val_reshaped), \n",
    "                            callbacks=early_stopping)\n",
    "        \n",
    "        y_pred_reshaped = model.predict(X_test_reshaped)\n",
    "        \n",
    "        \n",
    "        # 손실 추이 저장\n",
    "        fold_train_loss = history.history['loss']\n",
    "        fold_val_loss = history.history['val_loss']\n",
    "        fold_test_loss, fold_test_mse = model.evaluate(X_test_reshaped, y_test, verbose=0)\n",
    "\n",
    "        print(f'fold_test_mse: {fold_test_mse}')\n",
    "\n",
    "        # RMSE 계산 및 저장\n",
    "        fold_rmse = np.sqrt(fold_test_loss)\n",
    "        fold_rmse_values.append(fold_rmse)\n",
    "\n",
    "        print(f'Month {month + 1}: MSE = {fold_test_loss}, RMSE = {fold_rmse}')\n",
    "        \n",
    "        # 모든 폴드의 손실 추이 저장\n",
    "        fold_train_losses.append(fold_train_loss)\n",
    "        fold_val_losses.append(fold_val_loss)\n",
    "        fold_test_losses.append(fold_test_loss)\n",
    "            \n",
    "        all_loss.extend(history.history['loss'])\n",
    "        all_val_loss.extend(history.history['val_loss'])\n",
    "    \n",
    "        print('------------------------------------')\n",
    "        print(\"y_pred, y_test shape\")\n",
    "        print(y_pred_reshaped.shape)\n",
    "        print(y_test.shape)\n",
    "        print('------------------------------------')\n",
    "\n",
    "        # 각 폴드의 결과를 48개 그룹으로 나누어 저장\n",
    "        for i in range(0,48):\n",
    "            if i == 1:\n",
    "                print(y_pred_reshaped)\n",
    "                print(y_pred_reshaped[:, i, :])\n",
    "                print(y_test[:, i, :])\n",
    "            results_dict[i]['predictions'].extend(y_pred_reshaped[:, i, :])\n",
    "            results_dict[i]['true_values'].extend(y_test[:, i, :])\n",
    "            \n",
    "            ''' if i ==0: # 0번째 행이 잘 추출되는지 확인 완료\n",
    "                print(results_dict[i]['predictions'])\n",
    "                print(results_dict[i]['true_values']) '''\n",
    "        \n",
    "        # 각 폴드에 대한 손실 추이 그래프 그리기\n",
    "        plot_loss_and_rmse_graphs(history, fold_test_loss, month)\n",
    "    \n",
    "    fold_average = np.mean(fold_rmse_values)\n",
    "    print(f'fold average: {fold_average}')\n",
    "    print(len(results_dict[1]['predictions']))\n",
    "    print(len(results_dict[1]['true_values']))\n",
    "    \n",
    "    model.summary()\n",
    "    \n",
    "    # 모델 구조를 시각적으로 저장\n",
    "    plot_model(model, to_file='combined_model_structure.png', show_shapes=True, show_layer_names=True)\n",
    "\n",
    "    # 모델 구조를 화면에 출력 (Jupyter Notebook에서)\n",
    "    Image('combined_model_structure.png')\n",
    "\n",
    "    return results_dict, fold_rmse_values"
   ]
  },
  {
   "cell_type": "code",
   "execution_count": 189,
   "id": "8ee902c7-d2a4-4d7d-87fb-a0d34306b53a",
   "metadata": {
    "tags": []
   },
   "outputs": [],
   "source": [
    "import matplotlib.font_manager as fm\n",
    "\n",
    "# 글리프 8722를 포함하는 폰트를 설정\n",
    "font_path = fm.findfont(fm.FontProperties(family='DejaVu Sans'))\n",
    "plt.rcParams['font.sans-serif'] = [font_path]\n",
    "plt.rcParams['axes.unicode_minus'] = False\n",
    "\n",
    "def plot_groupwise_scatter(results_dict):\n",
    "    # 전체 데이터 수집을 위한 리스트\n",
    "    all_predictions = []\n",
    "    all_true_values = []\n",
    "\n",
    "    for group, data in results_dict.items():\n",
    "        predictions = np.array(data['predictions']).flatten()\n",
    "        true_values = np.array(data['true_values']).flatten()\n",
    "\n",
    "        plt.figure(figsize=(4, 4))\n",
    "        plt.scatter(true_values, predictions, alpha=0.5, label=f'Group {group}', c='blue')\n",
    "        plt.scatter(true_values, true_values, alpha=0.5, label='True Values', c='red')\n",
    "        plt.plot([true_values.min(), true_values.max()], [true_values.min(), true_values.max()], 'k--', lw=2)\n",
    "        plt.xlabel('True Values')\n",
    "        plt.ylabel('Predictions')\n",
    "        plt.legend()\n",
    "        plt.grid(True)\n",
    "        plt.title(f'Predictions vs True Values (Group {group})')\n",
    "        plt.tight_layout()\n",
    "        plt.show()\n",
    "\n",
    "        all_predictions.extend(predictions)\n",
    "        all_true_values.extend(true_values)\n",
    "\n",
    "    # 전체 데이터에 대한 산점도\n",
    "    all_predictions = np.array(all_predictions).flatten()\n",
    "    all_true_values = np.array(all_true_values).flatten()\n",
    "\n",
    "    plt.figure(figsize=(8, 8))\n",
    "    plt.scatter(all_true_values, all_predictions, alpha=0.5, label='Predictions', c='blue')\n",
    "    plt.scatter(all_true_values, all_true_values, alpha=0.5, label='True Values', c='red')\n",
    "    plt.plot([all_true_values.min(), all_true_values.max()], [all_true_values.min(), all_true_values.max()], 'k--', lw=2)\n",
    "    plt.xlabel('True Values')\n",
    "    plt.ylabel('Predictions')\n",
    "    plt.legend()\n",
    "    plt.grid(True)\n",
    "    plt.title('Predictions vs True Values (All Groups)')\n",
    "    plt.tight_layout()\n",
    "    plt.show()"
   ]
  },
  {
   "cell_type": "code",
   "execution_count": null,
   "id": "ad8911df-4539-4a1b-beff-043cb672975d",
   "metadata": {
    "tags": []
   },
   "outputs": [],
   "source": [
    "import numpy as np\n",
    "from sklearn.metrics import mean_squared_error\n",
    "\n",
    "# RMSE 계산 함수\n",
    "def calculate_groupwise_rmse(results):\n",
    "    groupwise_rmse = {}\n",
    "\n",
    "    for group_key, values in results.items():\n",
    "            \n",
    "        predictions = np.vstack(values['predictions'])\n",
    "        true_values = np.vstack(values['true_values'])\n",
    "        if group_key == 0:\n",
    "            print(predictions)\n",
    "            print(true_values)\n",
    "            print(len(predictions))\n",
    "            print(len(true_values))\n",
    "        print(\"pred_length: {}\".format(len(predictions)))\n",
    "        print(\"true_length: {}\".format(len(true_values)))\n",
    "        \n",
    "        # MSE 및 RMSE 계산\n",
    "        mse = mean_squared_error(true_values, predictions, multioutput='uniform_average')\n",
    "        rmse = np.sqrt(mse)\n",
    "        \n",
    "        # 소수점 4자리까지 반올림\n",
    "        groupwise_rmse[group_key] = round(rmse, 4)\n",
    "\n",
    "    return groupwise_rmse\n",
    "\n",
    "# 결과 딕셔너리에서 모든 그룹의 RMSE 계산\n",
    "results, rmse_values = calculate_and_store_results(X, y_processed, monthly_indices)\n",
    "groupwise_rmse = calculate_groupwise_rmse(results)"
   ]
  },
  {
   "cell_type": "code",
   "execution_count": null,
   "id": "dbcd21a9-ea28-437d-8135-d77b5a5dcf0c",
   "metadata": {
    "tags": []
   },
   "outputs": [],
   "source": [
    "# 결과 출력\n",
    "for group_key, rmse in groupwise_rmse.items():\n",
    "    print(f\"RMSE for {group_key}: {rmse:.4f}\")"
   ]
  },
  {
   "cell_type": "code",
   "execution_count": 192,
   "id": "8603aa32-2d23-467a-bb9c-40152de67b11",
   "metadata": {
    "tags": []
   },
   "outputs": [],
   "source": [
    "df = pd.DataFrame(list(groupwise_rmse.values()), columns=['RMSE'])"
   ]
  },
  {
   "cell_type": "code",
   "execution_count": 193,
   "id": "8842957b-a008-42ca-bc64-14ac690c9526",
   "metadata": {
    "tags": []
   },
   "outputs": [],
   "source": [
    "df = df.transpose()"
   ]
  },
  {
   "cell_type": "code",
   "execution_count": null,
   "id": "43d0893b-7caa-4d9f-b879-c0c684af979a",
   "metadata": {
    "tags": []
   },
   "outputs": [],
   "source": [
    "df"
   ]
  },
  {
   "cell_type": "code",
   "execution_count": null,
   "id": "bdfc46db-d2e9-45d0-888b-20eeafa43b42",
   "metadata": {
    "tags": []
   },
   "outputs": [],
   "source": [
    "df.iloc[0].mean()"
   ]
  },
  {
   "cell_type": "markdown",
   "id": "b83dae5e",
   "metadata": {},
   "source": []
  },
  {
   "cell_type": "code",
   "execution_count": null,
   "id": "7234f56f-80ee-47a0-80d1-62dbc158cee9",
   "metadata": {
    "tags": []
   },
   "outputs": [],
   "source": [
    "df.iloc[0, :24].mean()"
   ]
  },
  {
   "cell_type": "code",
   "execution_count": 176,
   "id": "436c40ba-e286-4686-ba44-a74e77cab13f",
   "metadata": {
    "tags": []
   },
   "outputs": [],
   "source": [
    "#df.to_excel('./rmse_s3_robust.xlsx')"
   ]
  },
  {
   "cell_type": "code",
   "execution_count": null,
   "id": "a8ad73a9",
   "metadata": {},
   "outputs": [],
   "source": []
  },
  {
   "cell_type": "code",
   "execution_count": null,
   "id": "bb3321b4-7ad9-4329-aaf5-5eed29ba7132",
   "metadata": {},
   "outputs": [],
   "source": []
  },
  {
   "cell_type": "code",
   "execution_count": null,
   "id": "4523cffb",
   "metadata": {},
   "outputs": [],
   "source": []
  }
 ],
 "metadata": {
  "kernelspec": {
   "display_name": "tf10",
   "language": "python",
   "name": "tf10"
  },
  "language_info": {
   "codemirror_mode": {
    "name": "ipython",
    "version": 3
   },
   "file_extension": ".py",
   "mimetype": "text/x-python",
   "name": "python",
   "nbconvert_exporter": "python",
   "pygments_lexer": "ipython3",
   "version": "3.9.17"
  }
 },
 "nbformat": 4,
 "nbformat_minor": 5
}
